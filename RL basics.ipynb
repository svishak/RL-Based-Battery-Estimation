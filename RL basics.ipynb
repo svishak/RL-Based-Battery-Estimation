{
  "nbformat": 4,
  "nbformat_minor": 0,
  "metadata": {
    "colab": {
      "name": "RL.ipynb",
      "provenance": [],
      "authorship_tag": "ABX9TyPJmqbuENQbXG/aLeR+eXTl",
      "include_colab_link": true
    },
    "kernelspec": {
      "name": "python3",
      "display_name": "Python 3"
    },
    "language_info": {
      "name": "python"
    }
  },
  "cells": [
    {
      "cell_type": "markdown",
      "metadata": {
        "id": "view-in-github",
        "colab_type": "text"
      },
      "source": [
        "<a href=\"https://colab.research.google.com/github/svishak/RL-Based-Battery-Estimation/blob/main/RL%20basics.ipynb\" target=\"_parent\"><img src=\"https://colab.research.google.com/assets/colab-badge.svg\" alt=\"Open In Colab\"/></a>"
      ]
    },
    {
      "cell_type": "code",
      "metadata": {
        "id": "_40EWyJBtn_c"
      },
      "source": [
        "# Math and Code"
      ],
      "execution_count": null,
      "outputs": []
    },
    {
      "cell_type": "markdown",
      "metadata": {
        "id": "xv8d9wYBuBg3"
      },
      "source": [
        "Equation of a straight line is y=mx+b\n",
        "m=slope of the line\n",
        "b=y intercept"
      ]
    },
    {
      "cell_type": "code",
      "metadata": {
        "id": "LXGGDOklt64G"
      },
      "source": [
        "def line(x,m,b):\n",
        "  return m*x + b"
      ],
      "execution_count": null,
      "outputs": []
    },
    {
      "cell_type": "code",
      "metadata": {
        "colab": {
          "base_uri": "https://localhost:8080/"
        },
        "id": "Yf_28E4mt8wg",
        "outputId": "41c608a6-0f36-46ee-9da3-02f3cbe7b07b"
      },
      "source": [
        "#Returns the y co-ordinate for the given values of x,m,b\n",
        "line(3,2,1)"
      ],
      "execution_count": null,
      "outputs": [
        {
          "output_type": "execute_result",
          "data": {
            "text/plain": [
              "7"
            ]
          },
          "metadata": {
            "tags": []
          },
          "execution_count": 4
        }
      ]
    },
    {
      "cell_type": "markdown",
      "metadata": {
        "id": "w20gwPKYuhBv"
      },
      "source": [
        "The expected reward calculation\n",
        "$Q_{k}= (R_{1}+R_{2}+...+R_{k})/ k_{a}$"
      ]
    },
    {
      "cell_type": "code",
      "metadata": {
        "id": "Fp5F9VrUuSeD"
      },
      "source": [
        "def exp_reward(action, history):\n",
        "  rewards_for_action = history[action]\n",
        "  return sum(rewards_for_action) / len(rewards_for_action)"
      ],
      "execution_count": 2,
      "outputs": []
    },
    {
      "cell_type": "markdown",
      "metadata": {
        "id": "UaTXvWoKjUL4"
      },
      "source": [
        "Suppose there are two Actions and four states, the Q table would like this.\n",
        "$A_{state,action} =\n",
        " \\begin{pmatrix}\n",
        " 0 & 0 \\\\\n",
        " 0 & 1 \\\\\n",
        " 1 & 0 \\\\\n",
        " 1 & 1 \\\\\n",
        "  \\end{pmatrix}$"
      ]
    },
    {
      "cell_type": "code",
      "metadata": {
        "colab": {
          "base_uri": "https://localhost:8080/"
        },
        "id": "rDv9Nqiavxvt",
        "outputId": "96324d4c-eb31-4bcb-a586-6115464b53bc"
      },
      "source": [
        "\n",
        "history=[[0,0],[0,1],[1,0],[1,1]]\n",
        "action=1\n",
        "exp_reward(action,history)"
      ],
      "execution_count": 4,
      "outputs": [
        {
          "output_type": "execute_result",
          "data": {
            "text/plain": [
              "0.5"
            ]
          },
          "metadata": {
            "tags": []
          },
          "execution_count": 4
        }
      ]
    },
    {
      "cell_type": "markdown",
      "metadata": {
        "id": "vy7EZjtsf_pU"
      },
      "source": [
        "Selecting the best action. \\\n"
      ]
    },
    {
      "cell_type": "code",
      "metadata": {
        "id": "2SqFoEBQwKfS"
      },
      "source": [
        "def get_best_action(actions):\n",
        "  best_action = 0\n",
        "  max_action_value = 0\n",
        "  for i in range(len(actions)):\n",
        "    cur_action_value = get_action_value(actions[i])\n",
        "    if cur_action_value > max_action_value:\n",
        "      best_action = i\n",
        "      max_action_value = cur_action_value\n",
        "    return best_action"
      ],
      "execution_count": 2,
      "outputs": []
    },
    {
      "cell_type": "markdown",
      "metadata": {
        "id": "bo-WHXf6hUDL"
      },
      "source": [
        "Epsillon Greedy Strategy"
      ]
    },
    {
      "cell_type": "code",
      "metadata": {
        "id": "JmucKhRBg7p0"
      },
      "source": [
        "import numpy as np\n",
        "from scipy import stats\n",
        "import random\n",
        "import matplotlib.pyplot as plt\n",
        "n = 10\n",
        "probs = np.random.rand(n)\n",
        "eps = 0.2"
      ],
      "execution_count": 3,
      "outputs": []
    },
    {
      "cell_type": "code",
      "metadata": {
        "colab": {
          "base_uri": "https://localhost:8080/"
        },
        "id": "b1JhRovMhDMd",
        "outputId": "32dedb61-13f2-4d48-a83c-79976df7f1f8"
      },
      "source": [
        "probs"
      ],
      "execution_count": 4,
      "outputs": [
        {
          "output_type": "execute_result",
          "data": {
            "text/plain": [
              "array([0.56831209, 0.78428184, 0.17744155, 0.03426653, 0.50638972,\n",
              "       0.56608072, 0.81319117, 0.29240074, 0.46484761, 0.00814027])"
            ]
          },
          "metadata": {
            "tags": []
          },
          "execution_count": 4
        }
      ]
    },
    {
      "cell_type": "markdown",
      "metadata": {
        "id": "s5xQ12F_hktJ"
      },
      "source": [
        "Reward function Definition"
      ]
    },
    {
      "cell_type": "code",
      "metadata": {
        "id": "GavgF4kShEi9"
      },
      "source": [
        "def get_reward(prob, n=10):\n",
        "  reward = 0\n",
        "  for i in range(n):\n",
        "    if random.random() < prob:\n",
        "      reward += 1\n",
        "  return reward"
      ],
      "execution_count": 6,
      "outputs": []
    },
    {
      "cell_type": "code",
      "metadata": {
        "colab": {
          "base_uri": "https://localhost:8080/"
        },
        "id": "86w7ANKohbUf",
        "outputId": "a7d67b75-ad80-4555-b47d-222edf19eb39"
      },
      "source": [
        "np.mean([get_reward(0.7) for _ in range(2000)])"
      ],
      "execution_count": 8,
      "outputs": [
        {
          "output_type": "execute_result",
          "data": {
            "text/plain": [
              "6.973"
            ]
          },
          "metadata": {
            "tags": []
          },
          "execution_count": 8
        }
      ]
    },
    {
      "cell_type": "markdown",
      "metadata": {
        "id": "i-_K3JTwh66o"
      },
      "source": [
        "Updating of reward by means of the equation \\begin{equation*}\n",
        "\\mu_{new}= (K* \\mu_{old} + X)/ (K+ 1)\n",
        "\\end{equation*}"
      ]
    },
    {
      "cell_type": "code",
      "metadata": {
        "id": "5pJdjklThhB4"
      },
      "source": [
        "def update_record(record,action,r):\n",
        "  new_r = (record[action,0] * record[action,1] + r) / (record[action,0] +\n",
        "  1)\n",
        "  record[action,0] += 1\n",
        "  record[action,1] = new_r\n",
        "  return record"
      ],
      "execution_count": 9,
      "outputs": []
    },
    {
      "cell_type": "code",
      "metadata": {
        "id": "euv2MTUbkMp0"
      },
      "source": [
        "def get_best_arm(record):\n",
        "  arm_index = np.argmax(record[:,1],axis=0)\n",
        "  return arm_index"
      ],
      "execution_count": 12,
      "outputs": []
    },
    {
      "cell_type": "code",
      "metadata": {
        "colab": {
          "base_uri": "https://localhost:8080/",
          "height": 297
        },
        "id": "dcbennUbjh9g",
        "outputId": "ee7f80e8-7abb-4f3f-b763-b9e16983172c"
      },
      "source": [
        "fig, ax = plt.subplots(1,1)\n",
        "ax.set_xlabel(\"Plays\")\n",
        "ax.set_ylabel(\"Avg Reward\")\n",
        "record = np.zeros((n,2))\n",
        "probs = np.random.rand(n)\n",
        "eps = 0.2\n",
        "rewards = [0]\n",
        "for i in range(500):\n",
        "  if random.random() > eps:\n",
        "    choice = get_best_arm(record)\n",
        "  else:\n",
        "    choice = np.random.randint(10)\n",
        "    r = get_reward(probs[choice])\n",
        "    record = update_record(record,choice,r)\n",
        "    mean_reward = ((i+1) * rewards[-1] + r)/(i+2)\n",
        "    rewards.append(mean_reward)\n",
        "ax.scatter(np.arange(len(rewards)),rewards)"
      ],
      "execution_count": 13,
      "outputs": [
        {
          "output_type": "execute_result",
          "data": {
            "text/plain": [
              "<matplotlib.collections.PathCollection at 0x7f7c18dbced0>"
            ]
          },
          "metadata": {
            "tags": []
          },
          "execution_count": 13
        },
        {
          "output_type": "display_data",
          "data": {
            "image/png": "[encoded data removed]",
            "text/plain": [
              "<Figure size 432x288 with 1 Axes>"
            ]
          },
          "metadata": {
            "tags": [],
            "needs_background": "light"
          }
        }
      ]
    },
    {
      "cell_type": "code",
      "metadata": {
        "id": "5x7XXSBakLEU"
      },
      "source": [
        ""
      ],
      "execution_count": null,
      "outputs": []
    }
  ]
}