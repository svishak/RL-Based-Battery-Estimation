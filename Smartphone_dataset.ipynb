{
  "nbformat": 4,
  "nbformat_minor": 0,
  "metadata": {
    "colab": {
      "name": "Smartphone dataset.ipynb",
      "provenance": [],
      "mount_file_id": "1SBI2uwg_Qn0f6FxcUmqhOaQ5N-SHTKjI",
      "authorship_tag": "ABX9TyNF6Du65vbfB/47M/MvoQbF",
      "include_colab_link": true
    },
    "kernelspec": {
      "name": "python3",
      "display_name": "Python 3"
    },
    "language_info": {
      "name": "python"
    },
    "accelerator": "GPU"
  },
  "cells": [
    {
      "cell_type": "markdown",
      "metadata": {
        "id": "view-in-github",
        "colab_type": "text"
      },
      "source": [
        "<a href=\"https://colab.research.google.com/github/svishak/RL-Based-Battery-Estimation/blob/main/Smartphone_dataset.ipynb\" target=\"_parent\"><img src=\"https://colab.research.google.com/assets/colab-badge.svg\" alt=\"Open In Colab\"/></a>"
      ]
    },
    {
      "cell_type": "code",
      "metadata": {
        "id": "2-eKpwVZIl9l"
      },
      "source": [
        "#importing libraries\n",
        "import pandas as pd\n",
        "import numpy as np\n",
        "import matplotlib.pyplot as plt"
      ],
      "execution_count": 10,
      "outputs": []
    },
    {
      "cell_type": "code",
      "metadata": {
        "id": "xF8nEH_sV-Ke"
      },
      "source": [
        "#Reading our smart phone dataset\n",
        "data = pd.read_csv(\"/content/drive/MyDrive/Battery_level_and_voltage_charge_29-09-2020_174153.csv\")"
      ],
      "execution_count": 11,
      "outputs": []
    },
    {
      "cell_type": "code",
      "metadata": {
        "colab": {
          "base_uri": "https://localhost:8080/",
          "height": 206
        },
        "id": "1GbZaqMyWN0j",
        "outputId": "f4365c97-2c2a-4d56-987a-86aaf1b534a2"
      },
      "source": [
        "\n",
        "#Viewing columns\n",
        "data.head()"
      ],
      "execution_count": 12,
      "outputs": [
        {
          "output_type": "execute_result",
          "data": {
            "text/html": [
              "<div>\n",
              "<style scoped>\n",
              "    .dataframe tbody tr th:only-of-type {\n",
              "        vertical-align: middle;\n",
              "    }\n",
              "\n",
              "    .dataframe tbody tr th {\n",
              "        vertical-align: top;\n",
              "    }\n",
              "\n",
              "    .dataframe thead th {\n",
              "        text-align: right;\n",
              "    }\n",
              "</style>\n",
              "<table border=\"1\" class=\"dataframe\">\n",
              "  <thead>\n",
              "    <tr style=\"text-align: right;\">\n",
              "      <th></th>\n",
              "      <th>Date</th>\n",
              "      <th>Time</th>\n",
              "      <th>Battery Level</th>\n",
              "      <th>Temperature</th>\n",
              "      <th>Voltage</th>\n",
              "      <th>Current</th>\n",
              "    </tr>\n",
              "  </thead>\n",
              "  <tbody>\n",
              "    <tr>\n",
              "      <th>0</th>\n",
              "      <td>29-09-2020</td>\n",
              "      <td>17:41:54</td>\n",
              "      <td>4</td>\n",
              "      <td>27.5</td>\n",
              "      <td>3503</td>\n",
              "      <td>283506</td>\n",
              "    </tr>\n",
              "    <tr>\n",
              "      <th>1</th>\n",
              "      <td>29-09-2020</td>\n",
              "      <td>17:41:55</td>\n",
              "      <td>4</td>\n",
              "      <td>27.5</td>\n",
              "      <td>3503</td>\n",
              "      <td>283506</td>\n",
              "    </tr>\n",
              "    <tr>\n",
              "      <th>2</th>\n",
              "      <td>29-09-2020</td>\n",
              "      <td>17:41:56</td>\n",
              "      <td>4</td>\n",
              "      <td>27.5</td>\n",
              "      <td>3503</td>\n",
              "      <td>283506</td>\n",
              "    </tr>\n",
              "    <tr>\n",
              "      <th>3</th>\n",
              "      <td>29-09-2020</td>\n",
              "      <td>17:41:57</td>\n",
              "      <td>4</td>\n",
              "      <td>27.5</td>\n",
              "      <td>3503</td>\n",
              "      <td>283506</td>\n",
              "    </tr>\n",
              "    <tr>\n",
              "      <th>4</th>\n",
              "      <td>29-09-2020</td>\n",
              "      <td>17:41:58</td>\n",
              "      <td>4</td>\n",
              "      <td>27.5</td>\n",
              "      <td>3503</td>\n",
              "      <td>283506</td>\n",
              "    </tr>\n",
              "  </tbody>\n",
              "</table>\n",
              "</div>"
            ],
            "text/plain": [
              "         Date      Time  Battery Level  Temperature  Voltage  Current\n",
              "0  29-09-2020  17:41:54              4         27.5     3503   283506\n",
              "1  29-09-2020  17:41:55              4         27.5     3503   283506\n",
              "2  29-09-2020  17:41:56              4         27.5     3503   283506\n",
              "3  29-09-2020  17:41:57              4         27.5     3503   283506\n",
              "4  29-09-2020  17:41:58              4         27.5     3503   283506"
            ]
          },
          "metadata": {
            "tags": []
          },
          "execution_count": 12
        }
      ]
    },
    {
      "cell_type": "code",
      "metadata": {
        "colab": {
          "base_uri": "https://localhost:8080/",
          "height": 457
        },
        "id": "Ui5_t5NKlQ7D",
        "outputId": "f9baf6f5-8ac9-44de-cccf-9beb15edc9c0"
      },
      "source": [
        "#Graph: Voltage v/s Time\n",
        "import matplotlib.pyplot as plt\n",
        "plt.figure(figsize=(20,10))\n",
        "plt.plot(data['Time'], data['Voltage'])\n",
        "plt.xlabel('Time',rotation='vertical')\n",
        "plt.ylabel('Voltage')\n",
        "\n",
        "\n",
        "plt.show()"
      ],
      "execution_count": 13,
      "outputs": [
        {
          "output_type": "display_data",
          "data": {
            "image/png": "[encoded data removed]",
            "text/plain": [
              "<Figure size 1440x720 with 1 Axes>"
            ]
          },
          "metadata": {
            "tags": [],
            "needs_background": "light"
          }
        }
      ]
    },
    {
      "cell_type": "code",
      "metadata": {
        "id": "q5y5EIeNLjKN"
      },
      "source": [
        ""
      ],
      "execution_count": null,
      "outputs": []
    }
  ]
}